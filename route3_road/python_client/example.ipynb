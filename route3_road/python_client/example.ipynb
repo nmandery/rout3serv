{
 "cells": [
  {
   "cell_type": "markdown",
   "id": "3f3de3bd",
   "metadata": {},
   "source": [
    "Links:\n",
    "* [h3 edges](https://h3geo.org/docs/highlights/aggregation)\n",
    "\n",
    "\n",
    "## Initial setup"
   ]
  },
  {
   "cell_type": "code",
   "execution_count": null,
   "id": "3e42f96c",
   "metadata": {},
   "outputs": [],
   "source": [
    "from shapely.geometry import Point, Polygon, GeometryCollection, shape\n",
    "from datetime import datetime\n",
    "import h3.api.numpy_int as h3\n",
    "import pandas as pd\n",
    "import geopandas as gpd\n",
    "import numpy as np\n",
    "import folium\n",
    "import branca\n",
    "import geojson\n",
    "from route3_road_client import Server\n",
    "\n",
    "server = Server(hostport=\"127.0.0.1:7088\")\n",
    "\n",
    "print(server.graph_info())\n",
    "\n",
    "def dataframe_to_geodataframe(df: pd.DataFrame, column_name: str = \"h3index\") -> gpd.GeoDataFrame:\n",
    "    return gpd.GeoDataFrame(df,\n",
    "                            geometry=[Polygon(h3.h3_to_geo_boundary(h, geo_json=True)) for h in\n",
    "                                      np.nditer(df[column_name].to_numpy())],\n",
    "                            crs=4326)\n",
    "\n",
    "\n",
    "# test POIs - fast food shops. Can be created using the top-level justfile\n",
    "poi_df = gpd.read_file(\"../../data/hospital.geojson\")\n",
    "del poi_df['@id']\n",
    "print(f\"Using {len(poi_df)} POI locations\")\n",
    "\n",
    "poi_df"
   ]
  },
  {
   "cell_type": "markdown",
   "id": "fb3aa579",
   "metadata": {},
   "source": [
    "## Create a disturbance which hinders traffic\n",
    "\n",
    "You can use [geojson.io](http://geojson.io) to draw a featurecollection and paste it into the string bellow."
   ]
  },
  {
   "cell_type": "code",
   "execution_count": null,
   "id": "25c2a682",
   "metadata": {},
   "outputs": [],
   "source": [
    "disturbance_geojson_string = \"\"\"\n",
    "{\n",
    "  \"type\": \"FeatureCollection\",\n",
    "  \"features\": [\n",
    "    {\n",
    "      \"type\": \"Feature\",\n",
    "      \"properties\": {},\n",
    "      \"geometry\": {\n",
    "        \"type\": \"Polygon\",\n",
    "        \"coordinates\": [\n",
    "          [\n",
    "            [\n",
    "              11.274375915527344,\n",
    "              47.960732291994574\n",
    "            ],\n",
    "            [\n",
    "              11.2774658203125,\n",
    "              47.9554442623138\n",
    "            ],\n",
    "            [\n",
    "              11.282958984375,\n",
    "              47.95912294895246\n",
    "            ],\n",
    "            [\n",
    "              11.274375915527344,\n",
    "              47.960732291994574\n",
    "            ]\n",
    "          ]\n",
    "        ]\n",
    "      }\n",
    "    }\n",
    "  ]\n",
    "}\n",
    "\"\"\"\n",
    "\n",
    "\n",
    "disturbance = GeometryCollection([shape(feature[\"geometry\"]).buffer(0) for feature in geojson.loads(disturbance_geojson_string)[\"features\"]])\n",
    "disturbance"
   ]
  },
  {
   "cell_type": "markdown",
   "id": "4d394b2d",
   "metadata": {},
   "source": [
    "## Route and Analyze"
   ]
  },
  {
   "cell_type": "code",
   "execution_count": null,
   "id": "ab2e43f8",
   "metadata": {
    "scrolled": false
   },
   "outputs": [],
   "source": [
    "t_start = datetime.now()\n",
    "dopm_id, dopm_df = server.analyze_disturbance_of_population_movement(\n",
    "    disturbance, \n",
    "    15000.0, \n",
    "    poi_df.geometry.centroid, \n",
    "    num_destinations_to_reach=2\n",
    ")\n",
    "print(f\"took {datetime.now() - t_start}\")\n",
    "print(f\"id: {dopm_id}\")\n",
    "\n",
    "geo_df = dataframe_to_geodataframe(dopm_df, column_name=\"h3index_origin\")\n",
    "geo_df[\"cost_increase\"] = geo_df[\"avg_cost_with_disturbance\"] - geo_df[\"avg_cost_without_disturbance\"]\n",
    "geo_df"
   ]
  },
  {
   "cell_type": "markdown",
   "id": "f4ab62c4",
   "metadata": {},
   "source": [
    "... now map it ..."
   ]
  },
  {
   "cell_type": "code",
   "execution_count": null,
   "id": "84ee4b57",
   "metadata": {
    "scrolled": false
   },
   "outputs": [],
   "source": [
    "map_content_disolved = geo_df.dissolve().geometry[0].convex_hull\n",
    "map_center = map_content_disolved.centroid\n",
    "\n",
    "m = folium.Map(location=[map_center.y, map_center.x], zoom_start=11, tiles='OpenStreetMap', \n",
    "               #crs=\"EPSG4326\"\n",
    "              )\n",
    "\n",
    "poi_df_subset = poi_df.loc[poi_df.geometry.within(map_content_disolved.buffer(0.8))]\n",
    "\n",
    "folium.GeoJson(\n",
    "    # use only a subset of the POIs to speed up rendering\n",
    "    poi_df_subset,\n",
    "    style_function=lambda x: {\n",
    "        'fillColor': \"#c00\", \n",
    "        'color' : '#800',\n",
    "        'weight' : 1,\n",
    "        'fillOpacity' : 0.3,\n",
    "    },\n",
    "    tooltip=folium.features.GeoJsonTooltip([\n",
    "        \"name\",\n",
    "    ])\n",
    "    ).add_to(m) \n",
    "\n",
    "folium.GeoJson(\n",
    "    disturbance,\n",
    "    style_function=lambda x: {\n",
    "        'fillColor': \"#c00\", \n",
    "        'color' : '#800',\n",
    "        'weight' : 1,\n",
    "        'fillOpacity' : 0.3,\n",
    "    },\n",
    "    ).add_to(m)    \n",
    "    \n",
    "\n",
    "colorscale_cell_worsen = branca.colormap.LinearColormap(\n",
    "    ((1.,1.,1.), (0.0,0.0,1.0)), \n",
    "    vmin=0.0, \n",
    "    vmax=geo_df['cost_increase'].max()\n",
    ") \n",
    "   \n",
    "def style_cell(feature):\n",
    "    cost_inc = feature['properties']['cost_increase'] \n",
    "    if cost_inc is None:\n",
    "        fill = '#f00' # no route found\n",
    "    else: \n",
    "        fill = colorscale_cell_worsen(cost_inc)\n",
    "    return {\n",
    "        'fillColor': fill, \n",
    "        'color' : '#555',\n",
    "        'weight' : 1,\n",
    "        'fillOpacity' : 0.8,\n",
    "    }\n",
    "\n",
    "folium.GeoJson(\n",
    "    geo_df,\n",
    "    style_function=style_cell,\n",
    "    tooltip=folium.features.GeoJsonTooltip([\n",
    "        \"h3index_origin\",\n",
    "        \"avg_cost_without_disturbance\",\n",
    "        \"avg_cost_with_disturbance\",\n",
    "        \"cost_increase\",\n",
    "        \"population_origin\", \n",
    "        \"preferred_dest_h3index_without_disturbance\", \n",
    "        \"preferred_dest_h3index_with_disturbance\",\n",
    "        \"num_reached_without_disturbance\",\n",
    "        \"num_reached_with_disturbance\",\n",
    "    ])\n",
    "    ).add_to(m)    \n",
    "    \n",
    "m"
   ]
  },
  {
   "cell_type": "code",
   "execution_count": null,
   "id": "121b903f",
   "metadata": {},
   "outputs": [],
   "source": [
    "some_cells = list(geo_df.h3index_origin)[:40]\n",
    "\n",
    "route_gdf = server.get_disturbance_of_population_movement_routes(dopm_id, some_cells)\n",
    "len(route_gdf)\n",
    "route_gdf"
   ]
  },
  {
   "cell_type": "code",
   "execution_count": null,
   "id": "210ec38d",
   "metadata": {},
   "outputs": [],
   "source": [
    "def style_route(feature):\n",
    "    if feature['properties']['with_disturbance']:\n",
    "        color = '#f00'\n",
    "    else: \n",
    "        color = \"#0f0\"\n",
    "    return { \n",
    "        'color' : color,\n",
    "        'weight' : 2,\n",
    "    }\n",
    "\n",
    "folium.GeoJson(\n",
    "    route_gdf, #[route_gdf['with_disturbance'] == 0],\n",
    "    style_function=style_route,\n",
    "    tooltip=folium.features.GeoJsonTooltip([\n",
    "        \"h3index_origin\",\n",
    "        \"h3index_destination\",\n",
    "        \"cost\",\n",
    "    ])\n",
    "    ).add_to(m)    \n",
    "    \n",
    "m"
   ]
  },
  {
   "cell_type": "markdown",
   "id": "53644ee7",
   "metadata": {},
   "source": [
    "## Retrieve results again using the ID"
   ]
  },
  {
   "cell_type": "code",
   "execution_count": null,
   "id": "bfd2140f",
   "metadata": {},
   "outputs": [],
   "source": [
    "server.get_disturbance_of_population_movement(dopm_id)"
   ]
  },
  {
   "cell_type": "code",
   "execution_count": null,
   "id": "c1a172b3",
   "metadata": {},
   "outputs": [],
   "source": []
  }
 ],
 "metadata": {
  "kernelspec": {
   "display_name": "Python 3 (ipykernel)",
   "language": "python",
   "name": "python3"
  },
  "language_info": {
   "codemirror_mode": {
    "name": "ipython",
    "version": 3
   },
   "file_extension": ".py",
   "mimetype": "text/x-python",
   "name": "python",
   "nbconvert_exporter": "python",
   "pygments_lexer": "ipython3",
   "version": "3.8.10"
  }
 },
 "nbformat": 4,
 "nbformat_minor": 5
}
