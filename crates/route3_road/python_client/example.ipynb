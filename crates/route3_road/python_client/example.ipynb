{
 "cells": [
  {
   "cell_type": "markdown",
   "id": "3f3de3bd",
   "metadata": {},
   "source": [
    "Links:\n",
    "* [h3 edges](https://h3geo.org/docs/highlights/aggregation)\n",
    "\n",
    "\n",
    "## Initial setup"
   ]
  },
  {
   "cell_type": "code",
   "execution_count": null,
   "id": "3e42f96c",
   "metadata": {},
   "outputs": [],
   "source": [
    "from shapely.geometry import Point, Polygon, GeometryCollection, shape\n",
    "from datetime import datetime\n",
    "import h3.api.numpy_int as h3\n",
    "import pandas as pd\n",
    "import geopandas as gpd\n",
    "import pyarrow as pa\n",
    "import numpy as np\n",
    "import folium\n",
    "import branca\n",
    "import geojson\n",
    "import route3_road_client as rrc\n",
    "\n",
    "server = rrc.Server(hostport=\"127.0.0.1:7088\")\n",
    "print(server.version())\n",
    "\n",
    "for graph_info in server.list_graphs().graphs:\n",
    "    print(graph_info)\n",
    "    \n",
    "graph_handle = rrc.build_graph_handle(\"germany\", 10)\n",
    "\n",
    "ref_dataset_name = server.list_datasets()[0]\n",
    "print(f\"ref_dataset_name = {ref_dataset_name}\")\n",
    "\n",
    "#graph_h3_resolution = graph_info.h3_resolution\n",
    "\n",
    "def table_to_geodataframe(table: pa.Table, column_name: str = \"h3index\") -> gpd.GeoDataFrame:\n",
    "    df = table.to_pandas()\n",
    "    return gpd.GeoDataFrame(df,\n",
    "                            geometry=[Polygon(h3.h3_to_geo_boundary(h, geo_json=True)) for h in\n",
    "                                      np.nditer(df[column_name].to_numpy())],\n",
    "                            crs=4326)\n",
    "\n",
    "\n",
    "# test POIs - fast food shops. Can be created using the top-level justfile\n",
    "poi_df = gpd.read_file(\"../../../data/hospital.geojson\")\n",
    "del poi_df['@id']\n",
    "print(f\"Using {len(poi_df)} POI locations\")\n",
    "\n",
    "# only use points\n",
    "poi_df[\"geometry\"] = poi_df.geometry.centroid\n",
    "\n",
    "# create the h3indexes for the geometries to have them available for the\n",
    "# attribution in maps later\n",
    "poi_df[\"h3index\"] = poi_df.geometry.map(lambda geom: h3.geo_to_h3(geom.y, geom.x, graph_handle.h3_resolution))\n",
    "\n",
    "poi_df"
   ]
  },
  {
   "cell_type": "code",
   "execution_count": null,
   "id": "48d5b675",
   "metadata": {},
   "outputs": [],
   "source": []
  },
  {
   "cell_type": "markdown",
   "id": "fb3aa579",
   "metadata": {},
   "source": [
    "## Create a disturbance which hinders traffic\n",
    "\n",
    "You can use [geojson.io](http://geojson.io) to draw a featurecollection and paste it into the string bellow."
   ]
  },
  {
   "cell_type": "code",
   "execution_count": null,
   "id": "25c2a682",
   "metadata": {},
   "outputs": [],
   "source": [
    "disturbance_geojson_string = \"\"\"\n",
    "{\n",
    "  \"type\": \"FeatureCollection\",\n",
    "  \"features\": [\n",
    "    {\n",
    "      \"type\": \"Feature\",\n",
    "      \"properties\": {},\n",
    "      \"geometry\": {\n",
    "        \"type\": \"Polygon\",\n",
    "        \"coordinates\": [\n",
    "          [\n",
    "            [\n",
    "              10.87320327758789,\n",
    "              47.91300548190604\n",
    "            ],\n",
    "            [\n",
    "              10.876636505126953,\n",
    "              47.91300548190604\n",
    "            ],\n",
    "            [\n",
    "              10.876636505126953,\n",
    "              47.91611193960253\n",
    "            ],\n",
    "            [\n",
    "              10.87320327758789,\n",
    "              47.91611193960253\n",
    "            ],\n",
    "            [\n",
    "              10.87320327758789,\n",
    "              47.91300548190604\n",
    "            ]\n",
    "          ]\n",
    "        ]\n",
    "      }\n",
    "    }\n",
    "  ]\n",
    "}\n",
    "\"\"\"\n",
    "\n",
    "\n",
    "disturbance = GeometryCollection([shape(feature[\"geometry\"]).buffer(0) for feature in geojson.loads(disturbance_geojson_string)[\"features\"]])\n",
    "disturbance"
   ]
  },
  {
   "cell_type": "markdown",
   "id": "4d394b2d",
   "metadata": {},
   "source": [
    "## Route and Analyze"
   ]
  },
  {
   "cell_type": "code",
   "execution_count": null,
   "id": "ab2e43f8",
   "metadata": {
    "scrolled": false
   },
   "outputs": [],
   "source": [
    "t_start = datetime.now()\n",
    "dsp = server.differential_shortest_path(\n",
    "    rrc.build_differential_shortest_path_request(\n",
    "        graph_handle,\n",
    "        disturbance, \n",
    "        25000.0, \n",
    "        poi_df.geometry, \n",
    "        ref_dataset_name,\n",
    "        num_destinations_to_reach=2,\n",
    "        num_gap_cells_to_graph=3,\n",
    "        downsampled_prerouting=True\n",
    "    )\n",
    ")\n",
    "print(f\"took {datetime.now() - t_start}\")\n",
    "print(f\"id: {dsp.id}\")\n",
    "\n",
    "geo_df = table_to_geodataframe(dsp.table, column_name=\"h3index_origin\")\n",
    "geo_df[\"travel_duration_increase\"] = geo_df[\"avg_travel_duration_with_disturbance\"] - geo_df[\"avg_travel_duration_without_disturbance\"]\n",
    "geo_df"
   ]
  },
  {
   "cell_type": "markdown",
   "id": "f4ab62c4",
   "metadata": {},
   "source": [
    "... now map it ..."
   ]
  },
  {
   "cell_type": "code",
   "execution_count": null,
   "id": "84ee4b57",
   "metadata": {
    "scrolled": false
   },
   "outputs": [],
   "source": [
    "map_content_disolved = geo_df.dissolve().geometry[0].convex_hull\n",
    "map_center = map_content_disolved.centroid\n",
    "\n",
    "m = folium.Map(location=[map_center.y, map_center.x], zoom_start=11, tiles='OpenStreetMap', \n",
    "               #crs=\"EPSG4326\"\n",
    "              )\n",
    "\n",
    "poi_df_subset = poi_df.loc[poi_df.geometry.within(map_content_disolved.buffer(0.8))]\n",
    "\n",
    "folium.GeoJson(\n",
    "    # use only a subset of the POIs to speed up rendering\n",
    "    poi_df_subset,\n",
    "    style_function=lambda x: {\n",
    "        'fillColor': \"#c00\", \n",
    "        'color' : '#800',\n",
    "        'weight' : 1,\n",
    "        'fillOpacity' : 0.3,\n",
    "    },\n",
    "    tooltip=folium.features.GeoJsonTooltip([\n",
    "        \"name\",\n",
    "        \"h3index\",\n",
    "    ])\n",
    "    ).add_to(m) \n",
    "\n",
    "folium.GeoJson(\n",
    "    disturbance,\n",
    "    style_function=lambda x: {\n",
    "        'fillColor': \"#c00\", \n",
    "        'color' : '#800',\n",
    "        'weight' : 1,\n",
    "        'fillOpacity' : 0.3,\n",
    "    },\n",
    "    ).add_to(m)    \n",
    "    \n",
    "\n",
    "colorscale_cell_worsen = branca.colormap.LinearColormap(\n",
    "    ((1.,1.,1.), (0.0,0.0,1.0)), \n",
    "    vmin=0.0, \n",
    "    vmax=geo_df['travel_duration_increase'].max()\n",
    ") \n",
    "   \n",
    "def style_cell(feature):\n",
    "    cost_inc = feature['properties']['travel_duration_increase'] \n",
    "    if cost_inc is None:\n",
    "        fill = '#f00' # no route found\n",
    "    else: \n",
    "        fill = colorscale_cell_worsen(cost_inc)\n",
    "    return {\n",
    "        'fillColor': fill, \n",
    "        'color' : '#555',\n",
    "        'weight' : 1,\n",
    "        'fillOpacity' : 0.8,\n",
    "    }\n",
    "\n",
    "folium.GeoJson(\n",
    "    geo_df,\n",
    "    style_function=style_cell,\n",
    "    tooltip=folium.features.GeoJsonTooltip([\n",
    "        \"h3index_origin\",\n",
    "        \"avg_travel_duration_without_disturbance\",\n",
    "        \"avg_travel_duration_with_disturbance\",\n",
    "        \"travel_duration_increase\",\n",
    "        #\"population_origin\", \n",
    "        \"preferred_dest_h3index_without_disturbance\", \n",
    "        \"preferred_dest_h3index_with_disturbance\",\n",
    "        \"num_reached_without_disturbance\",\n",
    "        \"num_reached_with_disturbance\",\n",
    "        \"avg_category_weight_without_disturbance\",\n",
    "        \"avg_category_weight_with_disturbance\",\n",
    "    ])\n",
    "    ).add_to(m)    \n",
    "    \n",
    "m"
   ]
  },
  {
   "cell_type": "code",
   "execution_count": null,
   "id": "121b903f",
   "metadata": {
    "scrolled": true
   },
   "outputs": [],
   "source": [
    "some_cells = list(geo_df.sort_values([\"travel_duration_increase\"], ascending=False).h3index_origin)[:2]\n",
    "\n",
    "route_gdf = server.get_differential_shortest_path_routes(dsp.id, some_cells)\n",
    "len(route_gdf)\n",
    "route_gdf"
   ]
  },
  {
   "cell_type": "code",
   "execution_count": null,
   "id": "210ec38d",
   "metadata": {},
   "outputs": [],
   "source": [
    "def style_route(feature):\n",
    "    if feature['properties']['with_disturbance']:\n",
    "        color = '#f00'\n",
    "    else: \n",
    "        color = \"#0f0\"\n",
    "    return { \n",
    "        'color' : color,\n",
    "        'weight' : 2,\n",
    "    }\n",
    "\n",
    "folium.GeoJson(\n",
    "    route_gdf, #[route_gdf['with_disturbance'] == 0],\n",
    "    style_function=style_route,\n",
    "    tooltip=folium.features.GeoJsonTooltip([\n",
    "        \"h3index_origin\",\n",
    "        \"h3index_destination\",\n",
    "        \"travel_duration_secs\",\n",
    "        \"category_weight\",\n",
    "    ])\n",
    "    ).add_to(m)    \n",
    "    \n",
    "m"
   ]
  },
  {
   "cell_type": "markdown",
   "id": "53644ee7",
   "metadata": {},
   "source": [
    "## Retrieve results again using the ID"
   ]
  },
  {
   "cell_type": "code",
   "execution_count": null,
   "id": "bfd2140f",
   "metadata": {},
   "outputs": [],
   "source": [
    "dsp2 = server.get_differential_shortest_path(dsp.id)\n",
    "dsp2.table"
   ]
  },
  {
   "cell_type": "markdown",
   "id": "49ec9099",
   "metadata": {},
   "source": [
    "# H3 ShortestPath"
   ]
  },
  {
   "cell_type": "code",
   "execution_count": null,
   "id": "cbbe9b3f",
   "metadata": {},
   "outputs": [],
   "source": [
    "from route3_road_client import cell_selection\n",
    "\n",
    "def calc_some_h3_shortest_path(gh, linestrings=False):\n",
    "\n",
    "    origins = [\n",
    "        h3.geo_to_h3(47.687, 9.836, gh.h3_resolution),  # Wangen im Allgäu\n",
    "        h3.geo_to_h3(49.21299967760608, 8.075637817382812, gh.h3_resolution), # godramstein\n",
    "\n",
    "    ]\n",
    "    \n",
    "    destinations = [\n",
    "        #h3.geo_to_h3(53.369, 7.206, gh.h3_resolution),  # Emden\n",
    "        #h3.geo_to_h3(54.315, 13.092, gh.h3_resolution),  # Stralsund\n",
    "        h3.geo_to_h3(49.183695049773796, 7.895479202270508, gh.h3_resolution), # lug\n",
    "          \n",
    "    ]\n",
    "    \n",
    "    request = rrc.build_h3_shortest_path_request(\n",
    "        gh,\n",
    "        cell_selection(origins, dataset_name='population'), \n",
    "        cell_selection(destinations, dataset_name='population')\n",
    "    )\n",
    "    \n",
    "    if linestrings:\n",
    "        return server.h3_shortest_path_linestrings(request)\n",
    "    return server.h3_shortest_path(request).table.to_pandas()\n",
    "\n",
    "sp_df = calc_some_h3_shortest_path(graph_handle)\n"
   ]
  },
  {
   "cell_type": "code",
   "execution_count": null,
   "id": "39a4bcf1",
   "metadata": {
    "scrolled": true
   },
   "outputs": [],
   "source": [
    "sp_df[\"travel_duration_secs\"] = pd.to_timedelta(sp_df[\"travel_duration_secs\"], 's')\n",
    "sp_df"
   ]
  },
  {
   "cell_type": "code",
   "execution_count": null,
   "id": "8b4b13a4",
   "metadata": {},
   "outputs": [],
   "source": [
    "calc_some_h3_shortest_path(graph_handle, linestrings=True)"
   ]
  },
  {
   "cell_type": "code",
   "execution_count": null,
   "id": "be33fe2c",
   "metadata": {},
   "outputs": [],
   "source": []
  }
 ],
 "metadata": {
  "kernelspec": {
   "display_name": "Python 3 (ipykernel)",
   "language": "python",
   "name": "python3"
  },
  "language_info": {
   "codemirror_mode": {
    "name": "ipython",
    "version": 3
   },
   "file_extension": ".py",
   "mimetype": "text/x-python",
   "name": "python",
   "nbconvert_exporter": "python",
   "pygments_lexer": "ipython3",
   "version": "3.8.10"
  }
 },
 "nbformat": 4,
 "nbformat_minor": 5
}
